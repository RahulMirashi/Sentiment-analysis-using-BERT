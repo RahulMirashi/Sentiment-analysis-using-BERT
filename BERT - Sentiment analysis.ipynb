{
 "cells": [
  {
   "cell_type": "markdown",
   "id": "7b94136a",
   "metadata": {},
   "source": [
    "## Sentiment analysis using BERT model"
   ]
  },
  {
   "cell_type": "markdown",
   "id": "9c59fff3",
   "metadata": {},
   "source": [
    "In this project, we have used the 'bert-base-multilingual-uncased' model by NLPtown which is finetuned for sentiment analysis on product reviews in six languages: English, Dutch, German, French, Spanish, and Italian. \n",
    "\n",
    "It predicts the sentiment of the review as a number of stars (between 1 and 5).\n",
    "\n",
    "We are using beautifulsoup4 for data wrangling. The fetched reviews are then feed to the pretrained BERT model to predict the sentiment."
   ]
  },
  {
   "cell_type": "markdown",
   "id": "5f6c5a82",
   "metadata": {},
   "source": [
    "### Install and import all the dependencies"
   ]
  },
  {
   "cell_type": "code",
   "execution_count": 1,
   "id": "c0f2e70e",
   "metadata": {},
   "outputs": [],
   "source": [
    "# Make sure you have already installed Pytorch."
   ]
  },
  {
   "cell_type": "code",
   "execution_count": 1,
   "id": "ca723c71",
   "metadata": {
    "scrolled": true
   },
   "outputs": [
    {
     "name": "stdout",
     "output_type": "stream",
     "text": [
      "Requirement already satisfied: transformers in e:\\anaconda\\lib\\site-packages (4.24.0)\n",
      "Requirement already satisfied: requests in e:\\anaconda\\lib\\site-packages (2.28.1)\n",
      "Requirement already satisfied: beautifulsoup4 in e:\\anaconda\\lib\\site-packages (4.11.1)\n",
      "Requirement already satisfied: pandas in e:\\anaconda\\lib\\site-packages (1.5.3)\n",
      "Requirement already satisfied: numpy in e:\\anaconda\\lib\\site-packages (1.23.5)\n",
      "Requirement already satisfied: huggingface-hub<1.0,>=0.10.0 in e:\\anaconda\\lib\\site-packages (from transformers) (0.10.1)\n",
      "Requirement already satisfied: packaging>=20.0 in e:\\anaconda\\lib\\site-packages (from transformers) (22.0)\n",
      "Requirement already satisfied: regex!=2019.12.17 in e:\\anaconda\\lib\\site-packages (from transformers) (2022.7.9)\n",
      "Requirement already satisfied: tqdm>=4.27 in e:\\anaconda\\lib\\site-packages (from transformers) (4.64.1)\n",
      "Requirement already satisfied: pyyaml>=5.1 in e:\\anaconda\\lib\\site-packages (from transformers) (6.0)\n",
      "Requirement already satisfied: tokenizers!=0.11.3,<0.14,>=0.11.1 in e:\\anaconda\\lib\\site-packages (from transformers) (0.11.4)\n",
      "Requirement already satisfied: filelock in e:\\anaconda\\lib\\site-packages (from transformers) (3.9.0)\n",
      "Requirement already satisfied: idna<4,>=2.5 in e:\\anaconda\\lib\\site-packages (from requests) (3.4)\n",
      "Requirement already satisfied: certifi>=2017.4.17 in e:\\anaconda\\lib\\site-packages (from requests) (2024.7.4)\n",
      "Requirement already satisfied: charset-normalizer<3,>=2 in e:\\anaconda\\lib\\site-packages (from requests) (2.0.4)\n",
      "Requirement already satisfied: urllib3<1.27,>=1.21.1 in e:\\anaconda\\lib\\site-packages (from requests) (1.26.14)\n",
      "Requirement already satisfied: soupsieve>1.2 in e:\\anaconda\\lib\\site-packages (from beautifulsoup4) (2.3.2.post1)\n",
      "Requirement already satisfied: pytz>=2020.1 in e:\\anaconda\\lib\\site-packages (from pandas) (2022.7)\n",
      "Requirement already satisfied: python-dateutil>=2.8.1 in e:\\anaconda\\lib\\site-packages (from pandas) (2.8.2)\n",
      "Requirement already satisfied: typing-extensions>=3.7.4.3 in e:\\anaconda\\lib\\site-packages (from huggingface-hub<1.0,>=0.10.0->transformers) (4.9.0)\n",
      "Requirement already satisfied: six>=1.5 in e:\\anaconda\\lib\\site-packages (from python-dateutil>=2.8.1->pandas) (1.16.0)\n",
      "Requirement already satisfied: colorama in e:\\anaconda\\lib\\site-packages (from tqdm>=4.27->transformers) (0.4.6)\n"
     ]
    }
   ],
   "source": [
    "#!pip install transformers requests beautifulsoup4 pandas numpy"
   ]
  },
  {
   "cell_type": "code",
   "execution_count": null,
   "id": "b167adbb",
   "metadata": {},
   "outputs": [],
   "source": [
    "#!pip install torch\n",
    "#!pip uninstall torch torchvision torchaudio"
   ]
  },
  {
   "cell_type": "code",
   "execution_count": null,
   "id": "b57f1e30",
   "metadata": {},
   "outputs": [],
   "source": [
    "#!pip install torch==2.3.0 torchvision==0.18.0 torchaudio==2.3.0"
   ]
  },
  {
   "cell_type": "code",
   "execution_count": 1,
   "id": "6ae19205",
   "metadata": {},
   "outputs": [],
   "source": [
    "#import dependencies\n",
    "from transformers import AutoTokenizer, AutoModelForSequenceClassification\n",
    "import torch\n",
    "import requests\n",
    "from bs4 import BeautifulSoup\n",
    "import re"
   ]
  },
  {
   "cell_type": "markdown",
   "id": "a2d7f0c5",
   "metadata": {},
   "source": [
    "### Load the tokenizer and Model"
   ]
  },
  {
   "cell_type": "code",
   "execution_count": 2,
   "id": "d3aed2be",
   "metadata": {
    "scrolled": true
   },
   "outputs": [
    {
     "name": "stderr",
     "output_type": "stream",
     "text": [
      "E:\\Anaconda\\lib\\site-packages\\transformers\\modeling_utils.py:399: FutureWarning: You are using `torch.load` with `weights_only=False` (the current default value), which uses the default pickle module implicitly. It is possible to construct malicious pickle data which will execute arbitrary code during unpickling (See https://github.com/pytorch/pytorch/blob/main/SECURITY.md#untrusted-models for more details). In a future release, the default value for `weights_only` will be flipped to `True`. This limits the functions that could be executed during unpickling. Arbitrary objects will no longer be allowed to be loaded via this mode unless they are explicitly allowlisted by the user via `torch.serialization.add_safe_globals`. We recommend you start setting `weights_only=True` for any use case where you don't have full control of the loaded file. Please open an issue on GitHub for any issues related to this experimental feature.\n",
      "  return torch.load(checkpoint_file, map_location=\"cpu\")\n"
     ]
    }
   ],
   "source": [
    "# Load BERT model directly\n",
    "tokenizer = AutoTokenizer.from_pretrained(\"nlptown/bert-base-multilingual-uncased-sentiment\")\n",
    "model = AutoModelForSequenceClassification.from_pretrained(\"nlptown/bert-base-multilingual-uncased-sentiment\")"
   ]
  },
  {
   "cell_type": "markdown",
   "id": "4f7c0959",
   "metadata": {},
   "source": [
    "### Encode and calculate sentiment"
   ]
  },
  {
   "cell_type": "code",
   "execution_count": 3,
   "id": "e7913c0d",
   "metadata": {},
   "outputs": [],
   "source": [
    "tokens = tokenizer.encode(\"I am okay\", return_tensors='pt')"
   ]
  },
  {
   "cell_type": "code",
   "execution_count": 5,
   "id": "cf6cda72",
   "metadata": {},
   "outputs": [
    {
     "data": {
      "text/plain": [
       "tensor([  101,   151, 10345, 44810, 10158,   102])"
      ]
     },
     "execution_count": 5,
     "metadata": {},
     "output_type": "execute_result"
    }
   ],
   "source": [
    "tokens[0]"
   ]
  },
  {
   "cell_type": "code",
   "execution_count": 6,
   "id": "ef3cc159",
   "metadata": {},
   "outputs": [
    {
     "name": "stdout",
     "output_type": "stream",
     "text": [
      "[CLS] i am okay [SEP]\n"
     ]
    }
   ],
   "source": [
    "print(tokenizer.decode(tokens[0]))"
   ]
  },
  {
   "cell_type": "code",
   "execution_count": 7,
   "id": "c751d3d7",
   "metadata": {},
   "outputs": [],
   "source": [
    "result = model(tokens)"
   ]
  },
  {
   "cell_type": "code",
   "execution_count": 8,
   "id": "22c2ba27",
   "metadata": {},
   "outputs": [
    {
     "data": {
      "text/plain": [
       "SequenceClassifierOutput(loss=None, logits=tensor([[-1.9279,  0.4052,  2.4736,  0.6154, -1.4515]],\n",
       "       grad_fn=<AddmmBackward0>), hidden_states=None, attentions=None)"
      ]
     },
     "execution_count": 8,
     "metadata": {},
     "output_type": "execute_result"
    }
   ],
   "source": [
    "result\n",
    "#The output(logits) from the model is a one hot encoded list of scores.\n",
    "#The position having the highest score represents the sentiment rating for that sentence.\n",
    "#The ratings are in the order [1,2,3,4,5]."
   ]
  },
  {
   "cell_type": "code",
   "execution_count": 9,
   "id": "25062441",
   "metadata": {},
   "outputs": [
    {
     "data": {
      "text/plain": [
       "3"
      ]
     },
     "execution_count": 9,
     "metadata": {},
     "output_type": "execute_result"
    }
   ],
   "source": [
    "int(torch.argmax(result.logits)+1)"
   ]
  },
  {
   "cell_type": "markdown",
   "id": "e0bec655",
   "metadata": {},
   "source": [
    "### Fetch Reviews"
   ]
  },
  {
   "cell_type": "code",
   "execution_count": 10,
   "id": "62c4cbe7",
   "metadata": {},
   "outputs": [],
   "source": [
    "r = requests.get('https://www.yelp.com/biz/the-butcher-shop-by-niku-steakhouse-san-francisco?osq=Burgers')\n",
    "soup = BeautifulSoup(r.text, 'html.parser')\n",
    "regex = re.compile('.*comment.*')\n",
    "results = soup.find_all('p',{'class':regex})\n",
    "reviews = [result.text for result in results]"
   ]
  },
  {
   "cell_type": "code",
   "execution_count": 11,
   "id": "63460ccb",
   "metadata": {
    "scrolled": true
   },
   "outputs": [
    {
     "data": {
      "text/plain": [
       "'Hands down the best burger and customer service. Good place for family outing. The orders do arrive little late but not that bad.'"
      ]
     },
     "execution_count": 11,
     "metadata": {},
     "output_type": "execute_result"
    }
   ],
   "source": [
    "results[0].text"
   ]
  },
  {
   "cell_type": "code",
   "execution_count": null,
   "id": "8f780ba4",
   "metadata": {},
   "outputs": [],
   "source": []
  },
  {
   "cell_type": "markdown",
   "id": "4c8e44dd",
   "metadata": {},
   "source": [
    "### Load the reviews in a dataframe and then predict the sentiment"
   ]
  },
  {
   "cell_type": "code",
   "execution_count": 12,
   "id": "4829201a",
   "metadata": {},
   "outputs": [],
   "source": [
    "import numpy as np\n",
    "import pandas as pd"
   ]
  },
  {
   "cell_type": "code",
   "execution_count": 13,
   "id": "9ae99aa7",
   "metadata": {
    "scrolled": true
   },
   "outputs": [],
   "source": [
    "df = pd.DataFrame(np.array(reviews), columns=['review'])"
   ]
  },
  {
   "cell_type": "code",
   "execution_count": 14,
   "id": "095930a9",
   "metadata": {
    "scrolled": true
   },
   "outputs": [
    {
     "data": {
      "text/html": [
       "<div>\n",
       "<style scoped>\n",
       "    .dataframe tbody tr th:only-of-type {\n",
       "        vertical-align: middle;\n",
       "    }\n",
       "\n",
       "    .dataframe tbody tr th {\n",
       "        vertical-align: top;\n",
       "    }\n",
       "\n",
       "    .dataframe thead th {\n",
       "        text-align: right;\n",
       "    }\n",
       "</style>\n",
       "<table border=\"1\" class=\"dataframe\">\n",
       "  <thead>\n",
       "    <tr style=\"text-align: right;\">\n",
       "      <th></th>\n",
       "      <th>review</th>\n",
       "    </tr>\n",
       "  </thead>\n",
       "  <tbody>\n",
       "    <tr>\n",
       "      <th>0</th>\n",
       "      <td>Hands down the best burger and customer servic...</td>\n",
       "    </tr>\n",
       "    <tr>\n",
       "      <th>1</th>\n",
       "      <td>The best wagyu burger I've had in SF.  Tried b...</td>\n",
       "    </tr>\n",
       "    <tr>\n",
       "      <th>2</th>\n",
       "      <td>This review is strictly based on their burger ...</td>\n",
       "    </tr>\n",
       "    <tr>\n",
       "      <th>3</th>\n",
       "      <td>5-stars all the way! I've been waiting for thi...</td>\n",
       "    </tr>\n",
       "    <tr>\n",
       "      <th>4</th>\n",
       "      <td>4.5 stars--Came here on a Friday afternoon and...</td>\n",
       "    </tr>\n",
       "    <tr>\n",
       "      <th>5</th>\n",
       "      <td>Came by around 3:30pm on a Friday for the burg...</td>\n",
       "    </tr>\n",
       "    <tr>\n",
       "      <th>6</th>\n",
       "      <td>Came here for lunch on a Friday afternoon with...</td>\n",
       "    </tr>\n",
       "    <tr>\n",
       "      <th>7</th>\n",
       "      <td>Been to Niku a few times but finally got to tr...</td>\n",
       "    </tr>\n",
       "    <tr>\n",
       "      <th>8</th>\n",
       "      <td>An excellent spot to pick up high quality meat...</td>\n",
       "    </tr>\n",
       "    <tr>\n",
       "      <th>9</th>\n",
       "      <td>This review is solely for the burger and fries...</td>\n",
       "    </tr>\n",
       "  </tbody>\n",
       "</table>\n",
       "</div>"
      ],
      "text/plain": [
       "                                              review\n",
       "0  Hands down the best burger and customer servic...\n",
       "1  The best wagyu burger I've had in SF.  Tried b...\n",
       "2  This review is strictly based on their burger ...\n",
       "3  5-stars all the way! I've been waiting for thi...\n",
       "4  4.5 stars--Came here on a Friday afternoon and...\n",
       "5  Came by around 3:30pm on a Friday for the burg...\n",
       "6  Came here for lunch on a Friday afternoon with...\n",
       "7  Been to Niku a few times but finally got to tr...\n",
       "8  An excellent spot to pick up high quality meat...\n",
       "9  This review is solely for the burger and fries..."
      ]
     },
     "execution_count": 14,
     "metadata": {},
     "output_type": "execute_result"
    }
   ],
   "source": [
    "df"
   ]
  },
  {
   "cell_type": "code",
   "execution_count": 15,
   "id": "3d9c8975",
   "metadata": {},
   "outputs": [
    {
     "data": {
      "text/plain": [
       "'Hands down the best burger and customer service. Good place for family outing. The orders do arrive little late but not that bad.'"
      ]
     },
     "execution_count": 15,
     "metadata": {},
     "output_type": "execute_result"
    }
   ],
   "source": [
    "df['review'].iloc[0]"
   ]
  },
  {
   "cell_type": "code",
   "execution_count": 16,
   "id": "3f99e1b9",
   "metadata": {},
   "outputs": [
    {
     "data": {
      "text/plain": [
       "<bound method NDFrame.describe of                                               review\n",
       "0  Hands down the best burger and customer servic...\n",
       "1  The best wagyu burger I've had in SF.  Tried b...\n",
       "2  This review is strictly based on their burger ...\n",
       "3  5-stars all the way! I've been waiting for thi...\n",
       "4  4.5 stars--Came here on a Friday afternoon and...\n",
       "5  Came by around 3:30pm on a Friday for the burg...\n",
       "6  Came here for lunch on a Friday afternoon with...\n",
       "7  Been to Niku a few times but finally got to tr...\n",
       "8  An excellent spot to pick up high quality meat...\n",
       "9  This review is solely for the burger and fries...>"
      ]
     },
     "execution_count": 16,
     "metadata": {},
     "output_type": "execute_result"
    }
   ],
   "source": [
    "df.describe"
   ]
  },
  {
   "cell_type": "code",
   "execution_count": 17,
   "id": "1c25f280",
   "metadata": {},
   "outputs": [],
   "source": [
    "def sentiment_score_function(review):\n",
    "    tokens = tokenizer.encode(review, return_tensors='pt')\n",
    "    result = model(tokens)\n",
    "    return int(torch.argmax(result.logits))+1"
   ]
  },
  {
   "cell_type": "code",
   "execution_count": 18,
   "id": "e83811bd",
   "metadata": {},
   "outputs": [],
   "source": [
    "df['sentiment_score'] = df['review'].apply(lambda x: sentiment_score_function(x[:512]))\n",
    "#Here our model is limited to 512 tokens as input. Hence, we are just extracting the first 512 tokens frm the sequences."
   ]
  },
  {
   "cell_type": "code",
   "execution_count": 19,
   "id": "8c43a165",
   "metadata": {
    "scrolled": true
   },
   "outputs": [
    {
     "data": {
      "text/html": [
       "<div>\n",
       "<style scoped>\n",
       "    .dataframe tbody tr th:only-of-type {\n",
       "        vertical-align: middle;\n",
       "    }\n",
       "\n",
       "    .dataframe tbody tr th {\n",
       "        vertical-align: top;\n",
       "    }\n",
       "\n",
       "    .dataframe thead th {\n",
       "        text-align: right;\n",
       "    }\n",
       "</style>\n",
       "<table border=\"1\" class=\"dataframe\">\n",
       "  <thead>\n",
       "    <tr style=\"text-align: right;\">\n",
       "      <th></th>\n",
       "      <th>review</th>\n",
       "      <th>sentiment_score</th>\n",
       "    </tr>\n",
       "  </thead>\n",
       "  <tbody>\n",
       "    <tr>\n",
       "      <th>0</th>\n",
       "      <td>Hands down the best burger and customer servic...</td>\n",
       "      <td>4</td>\n",
       "    </tr>\n",
       "    <tr>\n",
       "      <th>1</th>\n",
       "      <td>The best wagyu burger I've had in SF.  Tried b...</td>\n",
       "      <td>5</td>\n",
       "    </tr>\n",
       "    <tr>\n",
       "      <th>2</th>\n",
       "      <td>This review is strictly based on their burger ...</td>\n",
       "      <td>2</td>\n",
       "    </tr>\n",
       "    <tr>\n",
       "      <th>3</th>\n",
       "      <td>5-stars all the way! I've been waiting for thi...</td>\n",
       "      <td>5</td>\n",
       "    </tr>\n",
       "    <tr>\n",
       "      <th>4</th>\n",
       "      <td>4.5 stars--Came here on a Friday afternoon and...</td>\n",
       "      <td>4</td>\n",
       "    </tr>\n",
       "    <tr>\n",
       "      <th>5</th>\n",
       "      <td>Came by around 3:30pm on a Friday for the burg...</td>\n",
       "      <td>4</td>\n",
       "    </tr>\n",
       "    <tr>\n",
       "      <th>6</th>\n",
       "      <td>Came here for lunch on a Friday afternoon with...</td>\n",
       "      <td>5</td>\n",
       "    </tr>\n",
       "    <tr>\n",
       "      <th>7</th>\n",
       "      <td>Been to Niku a few times but finally got to tr...</td>\n",
       "      <td>4</td>\n",
       "    </tr>\n",
       "    <tr>\n",
       "      <th>8</th>\n",
       "      <td>An excellent spot to pick up high quality meat...</td>\n",
       "      <td>5</td>\n",
       "    </tr>\n",
       "    <tr>\n",
       "      <th>9</th>\n",
       "      <td>This review is solely for the burger and fries...</td>\n",
       "      <td>3</td>\n",
       "    </tr>\n",
       "  </tbody>\n",
       "</table>\n",
       "</div>"
      ],
      "text/plain": [
       "                                              review  sentiment_score\n",
       "0  Hands down the best burger and customer servic...                4\n",
       "1  The best wagyu burger I've had in SF.  Tried b...                5\n",
       "2  This review is strictly based on their burger ...                2\n",
       "3  5-stars all the way! I've been waiting for thi...                5\n",
       "4  4.5 stars--Came here on a Friday afternoon and...                4\n",
       "5  Came by around 3:30pm on a Friday for the burg...                4\n",
       "6  Came here for lunch on a Friday afternoon with...                5\n",
       "7  Been to Niku a few times but finally got to tr...                4\n",
       "8  An excellent spot to pick up high quality meat...                5\n",
       "9  This review is solely for the burger and fries...                3"
      ]
     },
     "execution_count": 19,
     "metadata": {},
     "output_type": "execute_result"
    }
   ],
   "source": [
    "df"
   ]
  },
  {
   "cell_type": "code",
   "execution_count": null,
   "id": "ae1c94f3",
   "metadata": {},
   "outputs": [],
   "source": []
  },
  {
   "cell_type": "code",
   "execution_count": null,
   "id": "7edad426",
   "metadata": {},
   "outputs": [],
   "source": []
  }
 ],
 "metadata": {
  "kernelspec": {
   "display_name": "Python 3 (ipykernel)",
   "language": "python",
   "name": "python3"
  },
  "language_info": {
   "codemirror_mode": {
    "name": "ipython",
    "version": 3
   },
   "file_extension": ".py",
   "mimetype": "text/x-python",
   "name": "python",
   "nbconvert_exporter": "python",
   "pygments_lexer": "ipython3",
   "version": "3.10.14"
  }
 },
 "nbformat": 4,
 "nbformat_minor": 5
}
